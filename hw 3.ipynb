{
 "cells": [
  {
   "cell_type": "markdown",
   "metadata": {},
   "source": [
    "# Assignment 3\n",
    "\n",
    "1. Implement Logistic Regression with Stochastic Gradient Decent using numpy\n",
    "1. Implement Logistic Regression with early stopping using pytorch\n",
    "\n",
    "Additional readings:\n",
    "1. https://www.pythonlikeyoumeanit.com/Module3_IntroducingNumpy/VectorizedOperations.html\n",
    "1. https://pytorch.org/tutorials/beginner/deep_learning_60min_blitz.html"
   ]
  },
  {
   "cell_type": "code",
   "execution_count": 2,
   "metadata": {},
   "outputs": [
    {
     "name": "stdout",
     "output_type": "stream",
     "text": [
      "(11314, 15566) (7532, 15566)\n",
      "(11314,) (7532,)\n"
     ]
    }
   ],
   "source": [
    "import numpy as np\n",
    "import matplotlib.pyplot as plt\n",
    "from sklearn.base import ClassifierMixin\n",
    "from sklearn.datasets import fetch_20newsgroups\n",
    "from sklearn import metrics\n",
    "import matplotlib.pyplot as plt\n",
    "from sklearn.feature_extraction.text import TfidfVectorizer\n",
    "\n",
    "# retrieve dataset\n",
    "data = fetch_20newsgroups()\n",
    "\n",
    "\n",
    "X_train = data['data']\n",
    "y_train = data['target']\n",
    "\n",
    "tfidf = TfidfVectorizer(max_df=0.5, min_df=10)\n",
    "X_train = tfidf.fit_transform(X_train)\n",
    "\n",
    "test_data = fetch_20newsgroups(subset='test')\n",
    "X_test = tfidf.transform(test_data['data'])\n",
    "y_test = test_data['target']\n",
    "\n",
    "print(X_train.shape, X_test.shape)\n",
    "print(y_train.shape, y_test.shape)"
   ]
  },
  {
   "cell_type": "markdown",
   "metadata": {},
   "source": [
    "## 1 Binary Logistic Regression\n",
    "$\\{(x_i, y_i)\\}_{i=1}^N$, $y \\in \\{0,1\\}$\n",
    "$$ z = Xw + b $$\n",
    "\n",
    "$$p(y=1 | x) = \\sigma(z) = \\frac 1 {1 + e^{-z}}$$\n",
    "\n",
    "$$ L_{batch} = - \\frac 1 {|batch|} \\sum_{i \\in batch}^N [ y_i \\log \\sigma(z_i) + (1 - y_i) \\log (1 - \\sigma(z_i)) ] + \\frac \\lambda 2 w^T w$$\n",
    "\n",
    "Stochastic Gradient Decent for logreg:\n",
    "1. init w ~ random N(0,1), b = 0\n",
    "1. for epoch = 1..n_epochs:\n",
    "    * shuffle dataset\n",
    "    * for every batch:\n",
    "        * $w^{(t)} \\leftarrow w^{(t-1)} - \\alpha \\nabla_{w} L_{batch}(w^{(t-1)},b^{(t-1)})$\n",
    "        * $b^{(t)} \\leftarrow b^{(t-1)} - \\alpha \\nabla_{b} L_{batch}(w^{(t-1)},b^{(t-1)})$\n",
    "        \n",
    "$w$ - weights  \n",
    "$b$ - biases  \n",
    "$\\alpha$ - learning rate\n",
    "\n",
    "Hint:\n",
    "$$\\nabla_w L = \\frac {\\partial L} {\\partial \\sigma} \\frac {\\partial \\sigma} {\\partial z} \\frac {\\partial z} {\\partial w} + \\frac {\\partial (\\frac \\lambda 2 w^T w)} {\\partial w} $$\n",
    "$$\\nabla_b L = \\frac {\\partial L} {\\partial \\sigma} \\frac {\\partial \\sigma} {\\partial z} \\frac {\\partial z} {\\partial b} $$"
   ]
  },
  {
   "cell_type": "code",
   "execution_count": 3,
   "metadata": {},
   "outputs": [
    {
     "name": "stdout",
     "output_type": "stream",
     "text": [
      "(1064, 15566) (708, 15566)\n",
      "(1064,) (708,)\n"
     ]
    }
   ],
   "source": [
    "# make dataset for binary classification\n",
    "\n",
    "X_train_bin = X_train[y_train < 2]\n",
    "y_train_bin = y_train[y_train < 2]\n",
    "\n",
    "X_test_bin = X_test[y_test < 2]\n",
    "y_test_bin = y_test[y_test < 2]\n",
    "\n",
    "print(X_train_bin.shape, X_test_bin.shape)\n",
    "print(y_train_bin.shape, y_test_bin.shape)"
   ]
  },
  {
   "cell_type": "code",
   "execution_count": 6,
   "metadata": {},
   "outputs": [
    {
     "name": "stdout",
     "output_type": "stream",
     "text": [
      "auc 0.7858909993472531\n"
     ]
    },
    {
     "data": {
      "image/png": "[encoded data removed]",
      "text/plain": [
       "<Figure size 432x288 with 1 Axes>"
      ]
     },
     "metadata": {
      "needs_background": "light"
     },
     "output_type": "display_data"
    }
   ],
   "source": [
    "class LogRegNumpy(ClassifierMixin): #класс классификатора\n",
    "    def __init__(self, llambda=1, lr=0.1, batch_size=32, n_epochs=100):\n",
    "        \"\"\"\n",
    "        llambda: regularization strength\n",
    "        lr: learning rate\n",
    "        \"\"\"\n",
    "        self.w = None\n",
    "        self.b = 0\n",
    "        self.llambda = llambda\n",
    "        self.n_epochs = n_epochs\n",
    "        self.lr = lr\n",
    "        self.history = []\n",
    "        self.batch_size = batch_size\n",
    "        \n",
    "    def fit(self, X, y):\n",
    "        self.w = np.random.randn(X.shape[1])\n",
    "        self.b = 0\n",
    "        \n",
    "        for epoch in range(self.n_epochs):\n",
    "            \n",
    "            # random permutation over indices of dataset\n",
    "            batch_indices = np.random.permutation(len(y))\n",
    "            \n",
    "            for j in range(0, len(y), self.batch_size):\n",
    "                batch_idx = batch_indices[j:j + self.batch_size]\n",
    "                batch_X = X[batch_idx]\n",
    "                batch_y = y[batch_idx]\n",
    "            \n",
    "                # forward pass\n",
    "                # <TODO> [1 point] calculate batch loss\n",
    "                loss = - np.sum(batch_y * np.log(self.predict_proba(batch_X)) \n",
    "                       + (1 - batch_y)*np.log(1 - self.predict_proba(batch_X))) / batch_X.shape[0] + (self.llambda/2) * self.w.T.dot(self.w)\n",
    "\n",
    "                # backward pass\n",
    "                # <TODO> [2 points] calculate batch gradients \n",
    "                d = self.predict_proba(batch_X) - batch_y\n",
    "                grad_w = (1 / batch_X.shape[1]) * batch_X.T.dot(d) + self.llambda * self.w\n",
    "                grad_b = (1 / batch_X.shape[1]) * np.sum(d)\n",
    "\n",
    "                # SGD optimization step\n",
    "                # <TODO> [1 point]\n",
    "                self.w = self.w - self.lr * grad_w\n",
    "                self.b = self.b - self.lr * grad_b\n",
    "                \n",
    "                self.history.append(loss)\n",
    "        \n",
    "        return self \n",
    "    \n",
    "    def predict_proba(self, X):\n",
    "        # <TODO> [1 point] calculate p(y=1 | x)\n",
    "        p = X.dot(self.w) + self.b\n",
    "        return (1.0 / (1 + np.exp(-p)))\n",
    "    \n",
    "    def predict(self, X):\n",
    "        return (self.predict_proba(X) > 0.5).astype(np.int)\n",
    "    \n",
    "    \n",
    "model = LogRegNumpy(llambda = 0.001, lr=3, batch_size=128, n_epochs=100)\n",
    "model.fit(X_train_bin, y_train_bin)\n",
    "print('auc', metrics.roc_auc_score(y_test_bin, model.predict_proba(X_test_bin)))\n",
    "\n",
    "plt.plot(np.arange(len(model.history)), model.history)\n",
    "plt.xlabel('iters')\n",
    "plt.ylabel('train loss');"
   ]
  }
 ],
 "metadata": {
  "kernelspec": {
   "display_name": "Python 3",
   "language": "python",
   "name": "python3"
  },
  "language_info": {
   "codemirror_mode": {
    "name": "ipython",
    "version": 3
   },
   "file_extension": ".py",
   "mimetype": "text/x-python",
   "name": "python",
   "nbconvert_exporter": "python",
   "pygments_lexer": "ipython3",
   "version": "3.7.6"
  }
 },
 "nbformat": 4,
 "nbformat_minor": 2
}
