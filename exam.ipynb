{
 "cells": [
  {
   "cell_type": "code",
   "execution_count": 17,
   "metadata": {},
   "outputs": [],
   "source": [
    "from sklearn.feature_extraction.text import CountVectorizer\n",
    "import numpy as np\n",
    "from scipy.optimize import curve_fit"
   ]
  },
  {
   "cell_type": "code",
   "execution_count": 2,
   "metadata": {},
   "outputs": [],
   "source": [
    "f = open('tsu_biology_tagged.txt', 'r', encoding = 'utf-8')\n",
    "i = 0\n",
    "words_m1 = []\n",
    "words_m2 = []\n",
    "mistakes = 0\n",
    "for line in f:\n",
    "    if i<1000000:\n",
    "        try:\n",
    "            i+=1\n",
    "            l_words = line.split()\n",
    "            words_m1.append(l_words[2])\n",
    "        except IndexError:\n",
    "            mistakes +=1 \n",
    "    else:\n",
    "        try:\n",
    "            i+=1\n",
    "            l_words = line.split()\n",
    "            words_m2.append(l_words[2])\n",
    "        except IndexError:\n",
    "            mistakes +=1       \n",
    "        \n",
    "f.close()"
   ]
  },
  {
   "cell_type": "code",
   "execution_count": 6,
   "metadata": {},
   "outputs": [],
   "source": [
    "def make_data (words):\n",
    "    vectorizer = CountVectorizer()\n",
    "    X = vectorizer.fit_transform(words)\n",
    "    matrix_freq = np.asarray(X.sum(axis=0)).ravel()\n",
    "    final_matrix = np.array([np.array(vectorizer.get_feature_names()), matrix_freq])\n",
    "    return (final_matrix)"
   ]
  },
  {
   "cell_type": "code",
   "execution_count": 9,
   "metadata": {},
   "outputs": [],
   "source": [
    "def count_frq (words, final_matrix):\n",
    "    len_data = len(words)\n",
    "    frq = []\n",
    "    for el in final_matrix[1]:\n",
    "        el = int(el)\n",
    "        el_frq = el/len_data\n",
    "        frq.append(el_frq)\n",
    "    frq_sorted = sorted(frq, reverse = True)\n",
    "    return (frq_sorted)"
   ]
  },
  {
   "cell_type": "code",
   "execution_count": 10,
   "metadata": {},
   "outputs": [],
   "source": [
    "def make_ranks (frq_sorted):\n",
    "    ranks = []\n",
    "    frq_final = []\n",
    "    i = 0\n",
    "    for el in frq_sorted:\n",
    "        if el not in frq_final:\n",
    "            i+=1\n",
    "            ranks.append(i)  \n",
    "            frq_final.append(el)\n",
    "        else:\n",
    "            ranks.append(i)\n",
    "            frq_final.append(el)   \n",
    "    return (ranks)"
   ]
  },
  {
   "cell_type": "code",
   "execution_count": 19,
   "metadata": {},
   "outputs": [],
   "source": [
    "def final (words):\n",
    "    final_matrix = make_data (words)\n",
    "    frq = count_frq (words, final_matrix)\n",
    "    ranks = make_ranks (frq)\n",
    "    return (ranks, frq)"
   ]
  },
  {
   "cell_type": "code",
   "execution_count": 11,
   "metadata": {},
   "outputs": [],
   "source": [
    "def zipfFunc(k, s):\n",
    "    return frq[0]/(pow(k, s))"
   ]
  },
  {
   "cell_type": "code",
   "execution_count": 13,
   "metadata": {},
   "outputs": [],
   "source": [
    "def answer (ranks, frq):\n",
    "    fitParams, fitCovariances = curve_fit(zipfFunc, ranks, frq) \n",
    "    answer = fitParams[0]\n",
    "    return (answer)"
   ]
  },
  {
   "cell_type": "code",
   "execution_count": 15,
   "metadata": {},
   "outputs": [],
   "source": [
    "#def final (words):\n",
    "    final_matrix = make_data (words)\n",
    "    frq = count_frq (words, final_matrix)\n",
    "    ranks = make_ranks (frq)\n",
    "    anwer = answer (ranks, frq)\n",
    "    return (answer)"
   ]
  },
  {
   "cell_type": "code",
   "execution_count": 20,
   "metadata": {},
   "outputs": [
    {
     "name": "stdout",
     "output_type": "stream",
     "text": [
      "0.923199158741981\n"
     ]
    }
   ],
   "source": [
    "# Всего получилось две части, в первой отделен миллион, во второй получилось меньше\n",
    "\n",
    "# Для первой части:\n",
    "ranks, frq = final (words_m1)\n",
    "\n",
    "def zipfFunc(k, s):\n",
    "    return frq[0]/(pow(k, s))\n",
    "\n",
    "fitParams, fitCovariances = curve_fit(zipfFunc, ranks, frq) \n",
    "print(fitParams[0])"
   ]
  },
  {
   "cell_type": "code",
   "execution_count": 21,
   "metadata": {},
   "outputs": [
    {
     "name": "stdout",
     "output_type": "stream",
     "text": [
      "0.9265313698232511\n"
     ]
    }
   ],
   "source": [
    "# Для второй части:\n",
    "ranks, frq = final (words_m2)\n",
    "\n",
    "def zipfFunc(k, s):\n",
    "    return frq[0]/(pow(k, s))\n",
    "\n",
    "fitParams, fitCovariances = curve_fit(zipfFunc, ranks, frq) \n",
    "print(fitParams[0])"
   ]
  },
  {
   "cell_type": "code",
   "execution_count": null,
   "metadata": {},
   "outputs": [],
   "source": []
  }
 ],
 "metadata": {
  "kernelspec": {
   "display_name": "Python 3",
   "language": "python",
   "name": "python3"
  },
  "language_info": {
   "codemirror_mode": {
    "name": "ipython",
    "version": 3
   },
   "file_extension": ".py",
   "mimetype": "text/x-python",
   "name": "python",
   "nbconvert_exporter": "python",
   "pygments_lexer": "ipython3",
   "version": "3.7.6"
  }
 },
 "nbformat": 4,
 "nbformat_minor": 4
}
