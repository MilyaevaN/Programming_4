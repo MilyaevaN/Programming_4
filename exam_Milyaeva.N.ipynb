{
 "cells": [
  {
   "cell_type": "markdown",
   "metadata": {},
   "source": [
    "*Миляева Надежда, БКЛ 161   (Вариант 1, Вопрос 7)* "
   ]
  },
  {
   "cell_type": "markdown",
   "metadata": {},
   "source": [
    "## Вопрос 7.\n",
    "\n",
    "Compare BatchNorm and LayerNorm. What  is the difference and when do we use them?"
   ]
  },
  {
   "cell_type": "markdown",
   "metadata": {},
   "source": [
    "## Ответ\n",
    "\n",
    "\n",
    "Мы используем BatchNorm и LayerNorm для уменьшения времени на обучение нейронной сети. Batch normalisation используется для нейронных сетей с прямой связью, а layer normalisation - для рекуррентных.\n",
    "\n",
    "Batch normalisation использует распределение суммированных входных данных нейрона по \"мини-пакету\" обучающих случаев для вычисления среднего и дисперсии, а потом использует эти данные для нормализации входных данных этого нейрона в каждом обучающем случае (что и сокращает время обучения, так как некоторым слоям сети подаются уже обработанные данные). Но из-за этого Batch normalisation не подходит для реккурентных нейронных сетей.\n",
    "\n",
    "Для реккурентных сетей лучше использовать Layer normalisation. Она вычисляет среднее значение и дисперсию, используемые потом для нормализации, из всех суммированных входов к нейронам в слое на одном обучающем примере.\n",
    "\n",
    "В отличие от batch normalisation, layer normalisation выполняет эти вычисления и во время обучения, и во время тестирования."
   ]
  },
  {
   "cell_type": "markdown",
   "metadata": {},
   "source": [
    "## Вариант 1\n",
    "\n",
    "Develop a model for predicting review rating.\n",
    "\n",
    "**Multiclass classification into 5 classes**\n",
    "\n",
    "Score: **F1 with macro averaging**\n",
    "\n",
    "You are forbidden to use test dataset for any kind of training.\n",
    "\n",
    "Remember proper training pipeline.\n",
    "\n",
    "If you are not using default params in the models, you have to use some validation scheme to justify them.\n",
    "\n",
    "Use random_state or seed params - your experiment must be reprodusible.\n",
    "\n",
    "#### 1 baseline = 0.51\n",
    "#### 2 baseline = 0.53"
   ]
  },
  {
   "cell_type": "code",
   "execution_count": 1,
   "metadata": {
    "collapsed": true
   },
   "outputs": [],
   "source": [
    "import pandas as pd"
   ]
  },
  {
   "cell_type": "code",
   "execution_count": 2,
   "metadata": {
    "collapsed": false
   },
   "outputs": [
    {
     "data": {
      "text/plain": [
       "(48192, 3)"
      ]
     },
     "execution_count": 2,
     "metadata": {},
     "output_type": "execute_result"
    }
   ],
   "source": [
    "df_train = pd.read_csv('train.csv')\n",
    "df_test = pd.read_csv('test.csv')\n",
    "df_train.shape"
   ]
  },
  {
   "cell_type": "markdown",
   "metadata": {},
   "source": [
    "## Решение"
   ]
  },
  {
   "cell_type": "code",
   "execution_count": 3,
   "metadata": {
    "collapsed": true
   },
   "outputs": [],
   "source": [
    "from sklearn.feature_extraction.text import CountVectorizer\n",
    "from sklearn.feature_extraction.text import TfidfVectorizer"
   ]
  },
  {
   "cell_type": "code",
   "execution_count": null,
   "metadata": {
    "collapsed": true
   },
   "outputs": [],
   "source": [
    "from sklearn.metrics import f1_score"
   ]
  }
 ],
 "metadata": {
  "kernelspec": {
   "display_name": "Python 3",
   "language": "python",
   "name": "python3"
  },
  "language_info": {
   "codemirror_mode": {
    "name": "ipython",
    "version": 3
   },
   "file_extension": ".py",
   "mimetype": "text/x-python",
   "name": "python",
   "nbconvert_exporter": "python",
   "pygments_lexer": "ipython3",
   "version": "3.5.4"
  }
 },
 "nbformat": 4,
 "nbformat_minor": 0
}
