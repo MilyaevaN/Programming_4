{
 "cells": [
  {
   "cell_type": "markdown",
   "metadata": {},
   "source": [
    "# Assignment 2"
   ]
  },
  {
   "cell_type": "markdown",
   "metadata": {},
   "source": [
    "Demostrate consequences of No Free Lunch Theorem: every model of machine learning makes **assumptions** about dataset properties. If the assumption fails, model perfoms badly. If the assumption is met, model perfoms good.\n",
    "\n",
    "For each of the tasks, described below:\n",
    "1. create a dataset to meet the description. For demonstration purposes, feature dimension size = 2    \n",
    "1. train the models and evaluate accuracy. (with a training pipeline, described in the seminar) \n",
    "1. Show which model is better.   \n",
    "1. Write what assumptions were used, and why model exibits such behavior.  \n",
    "1. Plot dataset to demonstrate its properties. (Scatter plot, classes with different colors)  \n",
    "\n",
    "\n",
    "Tasks:\n",
    "\n",
    "1. Create dataset for binary classification task (binary crossentropy), \n",
    "where k-NN perfoms **worse** than logistic regression\n",
    "\n",
    "2. Create dataset for binary classification task (binary crossentropy), \n",
    "where logistic regression perfoms **worse** than k-NN\n",
    "\n",
    "3. Create dataset for binary classification task (binary crossentropy), \n",
    "where k-NN with cosine distance perfoms **better** than k-NN with euclidean distance\n",
    "\n",
    "\n",
    "! If there is no explanation, why one model perfoms better than the other on your dataset, the task does not count.  \n",
    "! if the training pipeline is not used, the task does not count.  "
   ]
  },
  {
   "cell_type": "markdown",
   "metadata": {},
   "source": [
    "### Решение.\n",
    "### №1"
   ]
  },
  {
   "cell_type": "code",
   "execution_count": null,
   "metadata": {
    "collapsed": true
   },
   "outputs": [],
   "source": [
    "import numpy as np\n",
    "import pandas as pd\n",
    "import matplotlib.pyplot as plt\n",
    "import math\n",
    "\n",
    "from sklearn.model_selection import GridSearchCV\n",
    "from sklearn.neighbors import KNeighborsClassifier"
   ]
  }
 ],
 "metadata": {
  "kernelspec": {
   "display_name": "Python 3",
   "language": "python",
   "name": "python3"
  },
  "language_info": {
   "codemirror_mode": {
    "name": "ipython",
    "version": 3
   },
   "file_extension": ".py",
   "mimetype": "text/x-python",
   "name": "python",
   "nbconvert_exporter": "python",
   "pygments_lexer": "ipython3",
   "version": "3.5.4"
  }
 },
 "nbformat": 4,
 "nbformat_minor": 0
}
